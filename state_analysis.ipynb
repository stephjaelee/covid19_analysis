{
 "cells": [
  {
   "cell_type": "code",
   "execution_count": 1,
   "metadata": {},
   "outputs": [],
   "source": [
    "# download data\n",
    "import git\n",
    "import os, shutil, stat"
   ]
  },
  {
   "cell_type": "code",
   "execution_count": 2,
   "metadata": {},
   "outputs": [],
   "source": [
    "# make a file path to load data into\n",
    "data_fp = os.path.join(os.getcwd(),\"data\")\n",
    "# get all files in data\n",
    "all_data_files = [os.path.join(d[0],f) for d in os.walk(data_fp) for f in d[2]]"
   ]
  },
  {
   "cell_type": "code",
   "execution_count": 23,
   "metadata": {},
   "outputs": [
    {
     "name": "stdout",
     "output_type": "stream",
     "text": [
      "\n"
     ]
    }
   ],
   "source": [
    "# make a file path to load repo into\n",
    "repo_fp = os.path.join(os.getcwd(),\"covid-19\")\n",
    "\n",
    "try:\n",
    "    # download covid data initially\n",
    "    repo = git.Repo.clone_from(url='https://github.com/CSSEGISandData/COVID-19.git',\n",
    "                       to_path=repo_fp)\n",
    "except:\n",
    "    repo.remotes.origin.pull()"
   ]
  }
 ],
 "metadata": {
  "kernelspec": {
   "display_name": "Python 3",
   "language": "python",
   "name": "python3"
  },
  "language_info": {
   "codemirror_mode": {
    "name": "ipython",
    "version": 3
   },
   "file_extension": ".py",
   "mimetype": "text/x-python",
   "name": "python",
   "nbconvert_exporter": "python",
   "pygments_lexer": "ipython3",
   "version": "3.7.4"
  }
 },
 "nbformat": 4,
 "nbformat_minor": 2
}
