{
 "cells": [
  {
   "cell_type": "code",
   "execution_count": 290,
   "metadata": {},
   "outputs": [],
   "source": [
    "# download data\n",
    "import git\n",
    "import os, shutil, stat\n",
    "import pandas as pd\n",
    "from datetime import datetime\n",
    "import seaborn as sns\n",
    "import matplotlib.pyplot as plt\n",
    "import re\n",
    "import numpy as np"
   ]
  },
  {
   "cell_type": "code",
   "execution_count": 2,
   "metadata": {},
   "outputs": [],
   "source": [
    "# make a file path to load data into\n",
    "data_fp = os.path.join(os.getcwd(),\"data\")\n",
    "# get all files in data\n",
    "all_data_files = [os.path.join(d[0],f) for d in os.walk(data_fp) for f in d[2]]"
   ]
  },
  {
   "cell_type": "code",
   "execution_count": 25,
   "metadata": {},
   "outputs": [],
   "source": [
    "# make a file path to load repo into\n",
    "repo_fp = os.path.join(os.getcwd(),\"covid-19\")\n",
    "\n",
    "try:\n",
    "    # download covid data initially\n",
    "    repo = git.Repo.clone_from(url='https://github.com/CSSEGISandData/COVID-19.git',\n",
    "                       to_path=repo_fp)\n",
    "except:\n",
    "    repo.remotes.origin.pull()"
   ]
  },
  {
   "cell_type": "code",
   "execution_count": 253,
   "metadata": {},
   "outputs": [],
   "source": [
    "# load daily reports\n",
    "daily_dir = 'csse_covid_19_daily_reports'\n",
    "all_csv = {}\n",
    "for obj in os.walk(repo_fp):\n",
    "    if os.path.basename(obj[0])==daily_dir:\n",
    "        for f in obj[2]:\n",
    "            if f[-3:] == 'csv':\n",
    "                dt = datetime.strptime(f[:-4], '%m-%d-%Y')\n",
    "                all_csv[dt] = os.path.join(obj[0],f)\n",
    "last_file = all_csv[max(all_csv.keys())]\n",
    "df = pd.read_csv(last_file)"
   ]
  },
  {
   "cell_type": "code",
   "execution_count": 292,
   "metadata": {
    "scrolled": false
   },
   "outputs": [],
   "source": [
    "all_dfs = []\n",
    "for i in all_csv.items():\n",
    "    df = pd.read_csv(i[1])\n",
    "    df.rename(columns = {i:str.lower(re.sub(r'[~\\W]','_',i)) for i in df.columns},\n",
    "             inplace=True)\n",
    "    df.rename(columns = {'latitude':'lat',\n",
    "                         'longitude':'lon',\n",
    "                         'long_':'lon'},\n",
    "              inplace=True)\n",
    "    include = ['province_state', 'country_region',\n",
    "               'confirmed','deaths','lat','lon']\n",
    "    if not {'lat','lon'}.issubset(set(df.columns)):\n",
    "        df['lat'] = np.nan\n",
    "        df['lon'] = np.nan\n",
    "    df = df[include]\n",
    "    df['date']=i[0]\n",
    "    all_dfs.append(df)"
   ]
  },
  {
   "cell_type": "code",
   "execution_count": 293,
   "metadata": {},
   "outputs": [],
   "source": [
    "df = pd.concat(all_dfs,ignore_index=True)"
   ]
  },
  {
   "cell_type": "code",
   "execution_count": 300,
   "metadata": {},
   "outputs": [
    {
     "data": {
      "text/html": [
       "<div>\n",
       "<style scoped>\n",
       "    .dataframe tbody tr th:only-of-type {\n",
       "        vertical-align: middle;\n",
       "    }\n",
       "\n",
       "    .dataframe tbody tr th {\n",
       "        vertical-align: top;\n",
       "    }\n",
       "\n",
       "    .dataframe thead th {\n",
       "        text-align: right;\n",
       "    }\n",
       "</style>\n",
       "<table border=\"1\" class=\"dataframe\">\n",
       "  <thead>\n",
       "    <tr style=\"text-align: right;\">\n",
       "      <th></th>\n",
       "      <th>confirmed</th>\n",
       "      <th>deaths</th>\n",
       "      <th>lat</th>\n",
       "      <th>lon</th>\n",
       "    </tr>\n",
       "  </thead>\n",
       "  <tbody>\n",
       "    <tr>\n",
       "      <td>confirmed</td>\n",
       "      <td>1.000000</td>\n",
       "      <td>0.886072</td>\n",
       "      <td>0.015749</td>\n",
       "      <td>0.140960</td>\n",
       "    </tr>\n",
       "    <tr>\n",
       "      <td>deaths</td>\n",
       "      <td>0.886072</td>\n",
       "      <td>1.000000</td>\n",
       "      <td>0.013528</td>\n",
       "      <td>0.087777</td>\n",
       "    </tr>\n",
       "    <tr>\n",
       "      <td>lat</td>\n",
       "      <td>0.015749</td>\n",
       "      <td>0.013528</td>\n",
       "      <td>1.000000</td>\n",
       "      <td>-0.434800</td>\n",
       "    </tr>\n",
       "    <tr>\n",
       "      <td>lon</td>\n",
       "      <td>0.140960</td>\n",
       "      <td>0.087777</td>\n",
       "      <td>-0.434800</td>\n",
       "      <td>1.000000</td>\n",
       "    </tr>\n",
       "  </tbody>\n",
       "</table>\n",
       "</div>"
      ],
      "text/plain": [
       "           confirmed    deaths       lat       lon\n",
       "confirmed   1.000000  0.886072  0.015749  0.140960\n",
       "deaths      0.886072  1.000000  0.013528  0.087777\n",
       "lat         0.015749  0.013528  1.000000 -0.434800\n",
       "lon         0.140960  0.087777 -0.434800  1.000000"
      ]
     },
     "execution_count": 300,
     "metadata": {},
     "output_type": "execute_result"
    },
    {
     "data": {
      "image/png": "[encoded data removed]",
      "text/plain": [
       "<Figure size 432x288 with 2 Axes>"
      ]
     },
     "metadata": {
      "needs_background": "light"
     },
     "output_type": "display_data"
    }
   ],
   "source": [
    "df_ll = df[['confirmed','deaths','lat','lon']]\n",
    "df_ll = df_ll[df_ll['lat'].notna()]\n",
    "df_ll.fillna(0,inplace=True)\n",
    "c = df_ll.corr()\n",
    "sns.heatmap(c, cmap=\"coolwarm\",annot=True, square=True, )\n",
    "c"
   ]
  },
  {
   "cell_type": "markdown",
   "metadata": {},
   "source": [
    "There doesn't seem to be a strong correlation between longitude and latitude vs confirmations or deaths"
   ]
  },
  {
   "cell_type": "code",
   "execution_count": 256,
   "metadata": {},
   "outputs": [],
   "source": [
    "def divideZero(n,d):\n",
    "    if d == 0:\n",
    "        return 0\n",
    "    else:\n",
    "        return n/d"
   ]
  },
  {
   "cell_type": "code",
   "execution_count": 302,
   "metadata": {},
   "outputs": [],
   "source": [
    "df_mr = df[['province_state','confirmed','deaths','country_region','date']]\n",
    "df_mr = df_mr[df_mr['country_region']=='US']\n",
    "df_mr = df_mr.groupby(['province_state']).agg({'confirmed':'sum',\n",
    "                                      'deaths':'sum'}).reset_index()\n",
    "df_mr['mortality_rate'] = df_mr.apply(lambda row: divideZero(row['deaths'],row['confirmed']), axis=1)\n",
    "exclude = ['Northern Mariana Islands','Puerto Rico','Virgin Islands']\n",
    "df_mr = df_mr[~df_mr['province_state'].isin(exclude)]\n",
    "df_mr['label'] = df_mr.apply(lambda row: row['province_state']+'\\n'+str(row['deaths']), axis=1)\n",
    "df_mr.reset_index(drop=True,inplace=True)\n",
    "df_mr.dropna(inplace=True)"
   ]
  },
  {
   "cell_type": "code",
   "execution_count": 303,
   "metadata": {
    "scrolled": false
   },
   "outputs": [
    {
     "data": {
      "text/plain": [
       "{' Norfolk County, MA',\n",
       " 'Alabama',\n",
       " 'Alameda County, CA',\n",
       " 'Alaska',\n",
       " 'American Samoa',\n",
       " 'Arizona',\n",
       " 'Arkansas',\n",
       " 'Ashland, NE',\n",
       " 'Bennington County, VT',\n",
       " 'Bergen County, NJ',\n",
       " 'Berkeley, CA',\n",
       " 'Berkshire County, MA',\n",
       " 'Boston, MA',\n",
       " 'Broward County, FL',\n",
       " 'California',\n",
       " 'Carver County, MN',\n",
       " 'Charleston County, SC',\n",
       " 'Charlotte County, FL',\n",
       " 'Chatham County, NC',\n",
       " 'Cherokee County, GA',\n",
       " 'Chicago',\n",
       " 'Chicago, IL',\n",
       " 'Clark County, NV',\n",
       " 'Clark County, WA',\n",
       " 'Cobb County, GA',\n",
       " 'Collin County, TX',\n",
       " 'Colorado',\n",
       " 'Connecticut',\n",
       " 'Contra Costa County, CA',\n",
       " 'Cook County, IL',\n",
       " 'Davidson County, TN',\n",
       " 'Davis County, UT',\n",
       " 'Delaware',\n",
       " 'Delaware County, PA',\n",
       " 'Denver County, CO',\n",
       " 'Diamond Princess',\n",
       " 'District of Columbia',\n",
       " 'Douglas County, CO',\n",
       " 'Douglas County, NE',\n",
       " 'Douglas County, OR',\n",
       " 'El Paso County, CO',\n",
       " 'Fairfax County, VA',\n",
       " 'Fairfield County, CT',\n",
       " 'Fayette County, KY',\n",
       " 'Florida',\n",
       " 'Floyd County, GA',\n",
       " 'Fort Bend County, TX',\n",
       " 'Fresno County, CA',\n",
       " 'Fulton County, GA',\n",
       " 'Georgia',\n",
       " 'Grafton County, NH',\n",
       " 'Grand Princess',\n",
       " 'Grand Princess Cruise Ship',\n",
       " 'Grant County, WA',\n",
       " 'Guam',\n",
       " 'Harford County, MD',\n",
       " 'Harris County, TX',\n",
       " 'Harrison County, KY',\n",
       " 'Hawaii',\n",
       " 'Hendricks County, IN',\n",
       " 'Hillsborough, FL',\n",
       " 'Honolulu County, HI',\n",
       " 'Hudson County, NJ',\n",
       " 'Humboldt County, CA',\n",
       " 'Idaho',\n",
       " 'Illinois',\n",
       " 'Indiana',\n",
       " 'Iowa',\n",
       " 'Jackson County, OR ',\n",
       " 'Jefferson County, KY',\n",
       " 'Jefferson County, WA',\n",
       " 'Jefferson Parish, LA',\n",
       " 'Johnson County, IA',\n",
       " 'Johnson County, KS',\n",
       " 'Kansas',\n",
       " 'Kentucky',\n",
       " 'Kershaw County, SC',\n",
       " 'King County, WA',\n",
       " 'Kittitas County, WA',\n",
       " 'Klamath County, OR',\n",
       " 'Lackland, TX',\n",
       " 'Lackland, TX (From Diamond Princess)',\n",
       " 'Lee County, FL',\n",
       " 'Los Angeles, CA',\n",
       " 'Louisiana',\n",
       " 'Madera County, CA',\n",
       " 'Madison, WI',\n",
       " 'Maine',\n",
       " 'Manatee County, FL',\n",
       " 'Maricopa County, AZ',\n",
       " 'Marion County, IN',\n",
       " 'Marion County, OR',\n",
       " 'Maryland',\n",
       " 'Massachusetts',\n",
       " 'Michigan',\n",
       " 'Middlesex County, MA',\n",
       " 'Minnesota',\n",
       " 'Mississippi',\n",
       " 'Missouri',\n",
       " 'Montana',\n",
       " 'Montgomery County, MD',\n",
       " 'Montgomery County, PA',\n",
       " 'Montgomery County, TX',\n",
       " 'Nassau County, NY',\n",
       " 'Nebraska',\n",
       " 'Nevada',\n",
       " 'New Hampshire',\n",
       " 'New Jersey',\n",
       " 'New Mexico',\n",
       " 'New York',\n",
       " 'New York City, NY',\n",
       " 'New York County, NY',\n",
       " 'Norfolk County, MA',\n",
       " 'North Carolina',\n",
       " 'North Dakota',\n",
       " 'Norwell County, MA',\n",
       " 'Ohio',\n",
       " 'Okaloosa County, FL',\n",
       " 'Oklahoma',\n",
       " 'Omaha, NE (From Diamond Princess)',\n",
       " 'Orange County, CA',\n",
       " 'Orange, CA',\n",
       " 'Oregon',\n",
       " 'Pennsylvania',\n",
       " 'Pierce County, WA',\n",
       " 'Pinal County, AZ',\n",
       " 'Placer County, CA',\n",
       " 'Plymouth County, MA',\n",
       " 'Polk County, GA',\n",
       " 'Portland, OR',\n",
       " 'Providence County, RI',\n",
       " 'Providence, RI',\n",
       " 'Queens County, NY',\n",
       " 'Ramsey County, MN',\n",
       " 'Recovered',\n",
       " 'Rhode Island',\n",
       " 'Riverside County, CA',\n",
       " 'Rockingham County, NH',\n",
       " 'Rockland County, NY',\n",
       " 'Sacramento County, CA',\n",
       " 'San Antonio, TX',\n",
       " 'San Benito, CA',\n",
       " 'San Diego County, CA',\n",
       " 'San Francisco County, CA',\n",
       " 'San Mateo, CA',\n",
       " 'Santa Clara County, CA',\n",
       " 'Santa Clara, CA',\n",
       " 'Santa Cruz County, CA',\n",
       " 'Santa Rosa County, FL',\n",
       " 'Sarasota, FL',\n",
       " 'Saratoga County, NY',\n",
       " 'Seattle, WA',\n",
       " 'Shasta County, CA',\n",
       " 'Shelby County, TN',\n",
       " 'Snohomish County, WA',\n",
       " 'Sonoma County, CA',\n",
       " 'South Carolina',\n",
       " 'South Dakota',\n",
       " 'Spartanburg County, SC',\n",
       " 'Spokane County, WA',\n",
       " 'St. Louis County, MO',\n",
       " 'Suffolk County, MA',\n",
       " 'Suffolk County, NY',\n",
       " 'Summit County, CO',\n",
       " 'Tempe, AZ',\n",
       " 'Tennessee',\n",
       " 'Texas',\n",
       " 'Travis, CA',\n",
       " 'Travis, CA (From Diamond Princess)',\n",
       " 'Tulsa County, OK',\n",
       " 'US',\n",
       " 'Ulster County, NY',\n",
       " 'Umatilla, OR',\n",
       " 'Unassigned Location (From Diamond Princess)',\n",
       " 'Unassigned Location, VT',\n",
       " 'Unassigned Location, WA',\n",
       " 'United States Virgin Islands',\n",
       " 'Unknown Location, MA',\n",
       " 'Utah',\n",
       " 'Vermont',\n",
       " 'Virgin Islands, U.S.',\n",
       " 'Virginia',\n",
       " 'Volusia County, FL',\n",
       " 'Wake County, NC',\n",
       " 'Washington',\n",
       " 'Washington County, OR',\n",
       " 'Washington, D.C.',\n",
       " 'Washoe County, NV',\n",
       " 'Wayne County, PA',\n",
       " 'West Virginia',\n",
       " 'Westchester County, NY',\n",
       " 'Williamson County, TN',\n",
       " 'Wisconsin',\n",
       " 'Wuhan Evacuee',\n",
       " 'Wyoming',\n",
       " 'Yolo County, CA'}"
      ]
     },
     "execution_count": 303,
     "metadata": {},
     "output_type": "execute_result"
    }
   ],
   "source": [
    "set(df_mr['province_state'])"
   ]
  },
  {
   "cell_type": "code",
   "execution_count": 258,
   "metadata": {},
   "outputs": [
    {
     "data": {
      "text/plain": [
       "<matplotlib.axes._subplots.AxesSubplot at 0x205c2d0d988>"
      ]
     },
     "execution_count": 258,
     "metadata": {},
     "output_type": "execute_result"
    },
    {
     "data": {
      "image/png": "[encoded data removed]",
      "text/plain": [
       "<Figure size 432x288 with 1 Axes>"
      ]
     },
     "metadata": {
      "needs_background": "light"
     },
     "output_type": "display_data"
    }
   ],
   "source": [
    "for i in list(set(df_mr['province_state'])):\n",
    "    \n",
    "sns.scatterplot(x=df_mr[\"Confirmed\"],\n",
    "                y=df_mr[\"mortality_rate\"],\n",
    "                alpha=0.5,\n",
    "                s=df_mr['Deaths'])"
   ]
  }
 ],
 "metadata": {
  "kernelspec": {
   "display_name": "Python 3",
   "language": "python",
   "name": "python3"
  },
  "language_info": {
   "codemirror_mode": {
    "name": "ipython",
    "version": 3
   },
   "file_extension": ".py",
   "mimetype": "text/x-python",
   "name": "python",
   "nbconvert_exporter": "python",
   "pygments_lexer": "ipython3",
   "version": "3.7.4"
  }
 },
 "nbformat": 4,
 "nbformat_minor": 2
}
